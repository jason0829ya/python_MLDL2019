{
 "cells": [
  {
   "cell_type": "code",
   "execution_count": 1,
   "metadata": {},
   "outputs": [
    {
     "data": {
      "application/vnd.jupyter.widget-view+json": {
       "model_id": "8c7d806330cc4de6aeaba332a6905fd0",
       "version_major": 2,
       "version_minor": 0
      },
      "text/plain": [
       "A Jupyter Widget"
      ]
     },
     "metadata": {},
     "output_type": "display_data"
    },
    {
     "data": {
      "text/plain": [
       "<function __main__.GradientDescent>"
      ]
     },
     "execution_count": 1,
     "metadata": {},
     "output_type": "execute_result"
    }
   ],
   "source": [
    "import numpy as np\n",
    "import matplotlib.pyplot as plt\n",
    "import ipywidgets as wg\n",
    "\n",
    "\n",
    "def lossFunction(x):\n",
    " return x**4 + 3*x**3 + (x-1)**2 + x\n",
    "\n",
    "def lossFunction_grad(x):\n",
    "   return 4*x**3 + 9*x**2 + 2*(x-1) + 1\n",
    "\n",
    "\n",
    "x = np.linspace(-2.5, 0.5, num=100)\n",
    "lr = 0.001\n",
    "\n",
    "def GradientDescent(iterator):\n",
    "   plt.clf()\n",
    "   curposit = -2.5\n",
    "   for i in range(iterator):\n",
    "      curposit = curposit - lr * lossFunction_grad(curposit)\n",
    "\n",
    "   #loss = curposit**4 + 3*curposit**3 + (curposit-1)**2 + curposit\n",
    "   plt.scatter(curposit, lossFunction(curposit), color='red')\n",
    "   plt.plot(x, lossFunction(x))\n",
    "   plt.show()\n",
    "    \n",
    "\n",
    "wg.interact(GradientDescent, iterator=wg.IntSlider(min=0, max=100, step=1, value=0))"
   ]
  },
  {
   "cell_type": "code",
   "execution_count": null,
   "metadata": {
    "collapsed": true
   },
   "outputs": [],
   "source": []
  }
 ],
 "metadata": {
  "kernelspec": {
   "display_name": "Python 3",
   "language": "python",
   "name": "python3"
  },
  "language_info": {
   "codemirror_mode": {
    "name": "ipython",
    "version": 3
   },
   "file_extension": ".py",
   "mimetype": "text/x-python",
   "name": "python",
   "nbconvert_exporter": "python",
   "pygments_lexer": "ipython3",
   "version": "3.6.3"
  }
 },
 "nbformat": 4,
 "nbformat_minor": 2
}
