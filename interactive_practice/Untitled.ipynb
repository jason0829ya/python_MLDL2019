{
 "cells": [
  {
   "cell_type": "code",
   "execution_count": 14,
   "metadata": {},
   "outputs": [
    {
     "data": {
      "application/vnd.jupyter.widget-view+json": {
       "model_id": "9ad5ac8662c548c0bb4df33616b3a2eb",
       "version_major": 2,
       "version_minor": 0
      },
      "text/plain": [
       "A Jupyter Widget"
      ]
     },
     "metadata": {},
     "output_type": "display_data"
    }
   ],
   "source": [
    "import matplotlib.pyplot as plt # plt 用于显示图片\n",
    "import matplotlib.image as mpimg # mpimg 用于读取图片\n",
    "import numpy as np\n",
    "import ipywidgets as wg\n",
    "\n",
    "all_images = ['0.jpg', '1.jpg', '2.jpg', '3.jpg', '4.jpg']\n",
    "path = '/home/jason123/workspace/phton_MLDL2019/interactive_practice/'\n",
    "def plot(idx=wg.IntSlider(min=0,max=5,step=1,value=0)):\n",
    "   lena = mpimg.imread(path + all_images[idx])\n",
    "\n",
    "   plt.imshow(lena)\n",
    "   plt.axis('off')\n",
    "   plt.show()\n",
    "    \n",
    "def test(x):\n",
    "    print(x)\n",
    "\n",
    "wg.interactive(plot, x=wg.IntSlider(min=0,max=len(all_images) -2,step=1,value=0))"
   ]
  },
  {
   "cell_type": "code",
   "execution_count": null,
   "metadata": {
    "collapsed": true
   },
   "outputs": [],
   "source": []
  },
  {
   "cell_type": "code",
   "execution_count": null,
   "metadata": {
    "collapsed": true
   },
   "outputs": [],
   "source": []
  },
  {
   "cell_type": "code",
   "execution_count": null,
   "metadata": {
    "collapsed": true
   },
   "outputs": [],
   "source": []
  }
 ],
 "metadata": {
  "kernelspec": {
   "display_name": "Python 3",
   "language": "python",
   "name": "python3"
  },
  "language_info": {
   "codemirror_mode": {
    "name": "ipython",
    "version": 3
   },
   "file_extension": ".py",
   "mimetype": "text/x-python",
   "name": "python",
   "nbconvert_exporter": "python",
   "pygments_lexer": "ipython3",
   "version": "3.6.3"
  }
 },
 "nbformat": 4,
 "nbformat_minor": 2
}
