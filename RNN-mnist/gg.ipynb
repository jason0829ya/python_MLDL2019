{
 "cells": [
  {
   "cell_type": "code",
   "execution_count": 1,
   "metadata": {},
   "outputs": [
    {
     "name": "stderr",
     "output_type": "stream",
     "text": [
      "Using TensorFlow backend.\n"
     ]
    },
    {
     "name": "stdout",
     "output_type": "stream",
     "text": [
      "_________________________________________________________________\n",
      "Layer (type)                 Output Shape              Param #   \n",
      "=================================================================\n",
      "embedding_1 (Embedding)      (None, None, 5)           50000     \n",
      "_________________________________________________________________\n",
      "lstm_1 (LSTM)                (None, 4)                 160       \n",
      "_________________________________________________________________\n",
      "dense_1 (Dense)              (None, 1)                 5         \n",
      "=================================================================\n",
      "Total params: 50,165\n",
      "Trainable params: 50,165\n",
      "Non-trainable params: 0\n",
      "_________________________________________________________________\n",
      "Epoch 1/3\n",
      "25000/25000 [==============================] - 186s 7ms/step - loss: 0.5015 - acc: 0.7587\n",
      "Epoch 2/3\n",
      "25000/25000 [==============================] - 172s 7ms/step - loss: 0.2946 - acc: 0.8879\n",
      "Epoch 3/3\n",
      "25000/25000 [==============================] - 172s 7ms/step - loss: 0.2277 - acc: 0.9178\n",
      "25000/25000 [==============================] - 36s 1ms/step\n",
      "testing data accuracy is $0.858\n"
     ]
    }
   ],
   "source": [
    "from keras.datasets import imdb                 # data\n",
    "from keras.optimizers import adam\n",
    "from keras.models import Sequential\n",
    "from keras.layers import Dense\n",
    "from keras.layers import LSTM                   # RNN layer\n",
    "from keras.layers import Embedding              # 壓縮文字資料\n",
    "from keras.preprocessing import sequence        # 文字資料前處理器\n",
    "\n",
    "(x_train, y_train), (x_test, y_test) = imdb.load_data(num_words=10000)\n",
    "\n",
    "x_train = sequence.pad_sequences(x_train, maxlen=150)\n",
    "x_test = sequence.pad_sequences(x_test, maxlen=150)\n",
    "\n",
    "\n",
    "word_dim = 5\n",
    "num_LSTM_cell = 4\n",
    "\n",
    "model = Sequential()\n",
    "model.add(Embedding(10000, word_dim))\n",
    "model.add(LSTM(num_LSTM_cell))\n",
    "model.add(Dense(1, activation='sigmoid'))\n",
    "model.compile(loss='binary_crossentropy', optimizer=adam(lr=0.001), metrics=['accuracy'])\n",
    "model.summary()\n",
    "\n",
    "model.fit(x_train, y_train, batch_size=32, epochs=3)\n",
    "\n",
    "score = model.evaluate(x_test, y_test)\n",
    "print(f'testing data accuracy is ${score[1]}')"
   ]
  },
  {
   "cell_type": "code",
   "execution_count": null,
   "metadata": {},
   "outputs": [],
   "source": []
  }
 ],
 "metadata": {
  "kernelspec": {
   "display_name": "Python 3",
   "language": "python",
   "name": "python3"
  },
  "language_info": {
   "codemirror_mode": {
    "name": "ipython",
    "version": 3
   },
   "file_extension": ".py",
   "mimetype": "text/x-python",
   "name": "python",
   "nbconvert_exporter": "python",
   "pygments_lexer": "ipython3",
   "version": "3.6.5"
  }
 },
 "nbformat": 4,
 "nbformat_minor": 2
}
